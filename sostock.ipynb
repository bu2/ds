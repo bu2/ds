{
 "cells": [
  {
   "cell_type": "code",
   "execution_count": 1,
   "metadata": {
    "extensions": {
     "jupyter_dashboards": {
      "version": 1,
      "views": {
       "grid_default": {
        "col": 0,
        "height": 5,
        "hidden": true,
        "row": 0,
        "width": 4
       },
       "report_default": {}
      }
     }
    }
   },
   "outputs": [
    {
     "name": "stdout",
     "output_type": "stream",
     "text": [
      "3.5.2 |Continuum Analytics, Inc.| (default, Jul  2 2016, 17:53:06) \n",
      "[GCC 4.4.7 20120313 (Red Hat 4.4.7-1)]\n",
      "/home/jovyan/work\n",
      "6c8294df6523\n",
      "jovyan\n"
     ]
    }
   ],
   "source": [
    "import os, sys, time\n",
    "\n",
    "print(sys.version)\n",
    "print(os.path.realpath(os.curdir))\n",
    "\n",
    "!hostname\n",
    "!whoami"
   ]
  },
  {
   "cell_type": "code",
   "execution_count": 2,
   "metadata": {
    "extensions": {
     "jupyter_dashboards": {
      "version": 1,
      "views": {
       "grid_default": {
        "col": 4,
        "height": 4,
        "hidden": true,
        "row": 0,
        "width": 4
       },
       "report_default": {}
      }
     }
    }
   },
   "outputs": [
    {
     "data": {
      "text/html": [
       "\n",
       "    <div class=\"bk-root\">\n",
       "        <a href=\"http://bokeh.pydata.org\" target=\"_blank\" class=\"bk-logo bk-logo-small bk-logo-notebook\"></a>\n",
       "        <span id=\"3d35d0e0-9e16-4985-93b2-6a857bff0c6e\">Loading BokehJS ...</span>\n",
       "    </div>"
      ]
     },
     "metadata": {},
     "output_type": "display_data"
    },
    {
     "data": {
      "application/javascript": [
       "\n",
       "(function(global) {\n",
       "  function now() {\n",
       "    return new Date();\n",
       "  }\n",
       "\n",
       "  var force = true;\n",
       "\n",
       "  if (typeof (window._bokeh_onload_callbacks) === \"undefined\" || force === true) {\n",
       "    window._bokeh_onload_callbacks = [];\n",
       "    window._bokeh_is_loading = undefined;\n",
       "  }\n",
       "\n",
       "\n",
       "  \n",
       "  if (typeof (window._bokeh_timeout) === \"undefined\" || force === true) {\n",
       "    window._bokeh_timeout = Date.now() + 5000;\n",
       "    window._bokeh_failed_load = false;\n",
       "  }\n",
       "\n",
       "  var NB_LOAD_WARNING = {'data': {'text/html':\n",
       "     \"<div style='background-color: #fdd'>\\n\"+\n",
       "     \"<p>\\n\"+\n",
       "     \"BokehJS does not appear to have successfully loaded. If loading BokehJS from CDN, this \\n\"+\n",
       "     \"may be due to a slow or bad network connection. Possible fixes:\\n\"+\n",
       "     \"</p>\\n\"+\n",
       "     \"<ul>\\n\"+\n",
       "     \"<li>re-rerun `output_notebook()` to attempt to load from CDN again, or</li>\\n\"+\n",
       "     \"<li>use INLINE resources instead, as so:</li>\\n\"+\n",
       "     \"</ul>\\n\"+\n",
       "     \"<code>\\n\"+\n",
       "     \"from bokeh.resources import INLINE\\n\"+\n",
       "     \"output_notebook(resources=INLINE)\\n\"+\n",
       "     \"</code>\\n\"+\n",
       "     \"</div>\"}};\n",
       "\n",
       "  function display_loaded() {\n",
       "    if (window.Bokeh !== undefined) {\n",
       "      var el = document.getElementById(\"3d35d0e0-9e16-4985-93b2-6a857bff0c6e\");\n",
       "      el.textContent = \"BokehJS \" + Bokeh.version + \" successfully loaded.\";\n",
       "    } else if (Date.now() < window._bokeh_timeout) {\n",
       "      setTimeout(display_loaded, 100)\n",
       "    }\n",
       "  }\n",
       "\n",
       "  function run_callbacks() {\n",
       "    window._bokeh_onload_callbacks.forEach(function(callback) { callback() });\n",
       "    delete window._bokeh_onload_callbacks\n",
       "    console.info(\"Bokeh: all callbacks have finished\");\n",
       "  }\n",
       "\n",
       "  function load_libs(js_urls, callback) {\n",
       "    window._bokeh_onload_callbacks.push(callback);\n",
       "    if (window._bokeh_is_loading > 0) {\n",
       "      console.log(\"Bokeh: BokehJS is being loaded, scheduling callback at\", now());\n",
       "      return null;\n",
       "    }\n",
       "    if (js_urls == null || js_urls.length === 0) {\n",
       "      run_callbacks();\n",
       "      return null;\n",
       "    }\n",
       "    console.log(\"Bokeh: BokehJS not loaded, scheduling load and callback at\", now());\n",
       "    window._bokeh_is_loading = js_urls.length;\n",
       "    for (var i = 0; i < js_urls.length; i++) {\n",
       "      var url = js_urls[i];\n",
       "      var s = document.createElement('script');\n",
       "      s.src = url;\n",
       "      s.async = false;\n",
       "      s.onreadystatechange = s.onload = function() {\n",
       "        window._bokeh_is_loading--;\n",
       "        if (window._bokeh_is_loading === 0) {\n",
       "          console.log(\"Bokeh: all BokehJS libraries loaded\");\n",
       "          run_callbacks()\n",
       "        }\n",
       "      };\n",
       "      s.onerror = function() {\n",
       "        console.warn(\"failed to load library \" + url);\n",
       "      };\n",
       "      console.log(\"Bokeh: injecting script tag for BokehJS library: \", url);\n",
       "      document.getElementsByTagName(\"head\")[0].appendChild(s);\n",
       "    }\n",
       "  };var element = document.getElementById(\"3d35d0e0-9e16-4985-93b2-6a857bff0c6e\");\n",
       "  if (element == null) {\n",
       "    console.log(\"Bokeh: ERROR: autoload.js configured with elementid '3d35d0e0-9e16-4985-93b2-6a857bff0c6e' but no matching script tag was found. \")\n",
       "    return false;\n",
       "  }\n",
       "\n",
       "  var js_urls = [\"https://cdn.pydata.org/bokeh/release/bokeh-0.12.5.min.js\", \"https://cdn.pydata.org/bokeh/release/bokeh-widgets-0.12.5.min.js\"];\n",
       "\n",
       "  var inline_js = [\n",
       "    function(Bokeh) {\n",
       "      Bokeh.set_log_level(\"info\");\n",
       "    },\n",
       "    \n",
       "    function(Bokeh) {\n",
       "      \n",
       "    },\n",
       "    \n",
       "    function(Bokeh) {\n",
       "      \n",
       "      document.getElementById(\"3d35d0e0-9e16-4985-93b2-6a857bff0c6e\").textContent = \"BokehJS is loading...\";\n",
       "    },\n",
       "    function(Bokeh) {\n",
       "      console.log(\"Bokeh: injecting CSS: https://cdn.pydata.org/bokeh/release/bokeh-0.12.5.min.css\");\n",
       "      Bokeh.embed.inject_css(\"https://cdn.pydata.org/bokeh/release/bokeh-0.12.5.min.css\");\n",
       "      console.log(\"Bokeh: injecting CSS: https://cdn.pydata.org/bokeh/release/bokeh-widgets-0.12.5.min.css\");\n",
       "      Bokeh.embed.inject_css(\"https://cdn.pydata.org/bokeh/release/bokeh-widgets-0.12.5.min.css\");\n",
       "    }\n",
       "  ];\n",
       "\n",
       "  function run_inline_js() {\n",
       "    \n",
       "    if ((window.Bokeh !== undefined) || (force === true)) {\n",
       "      for (var i = 0; i < inline_js.length; i++) {\n",
       "        inline_js[i](window.Bokeh);\n",
       "      }if (force === true) {\n",
       "        display_loaded();\n",
       "      }} else if (Date.now() < window._bokeh_timeout) {\n",
       "      setTimeout(run_inline_js, 100);\n",
       "    } else if (!window._bokeh_failed_load) {\n",
       "      console.log(\"Bokeh: BokehJS failed to load within specified timeout.\");\n",
       "      window._bokeh_failed_load = true;\n",
       "    } else if (force !== true) {\n",
       "      var cell = $(document.getElementById(\"3d35d0e0-9e16-4985-93b2-6a857bff0c6e\")).parents('.cell').data().cell;\n",
       "      cell.output_area.append_execute_result(NB_LOAD_WARNING)\n",
       "    }\n",
       "\n",
       "  }\n",
       "\n",
       "  if (window._bokeh_is_loading === 0) {\n",
       "    console.log(\"Bokeh: BokehJS loaded, going straight to plotting\");\n",
       "    run_inline_js();\n",
       "  } else {\n",
       "    load_libs(js_urls, function() {\n",
       "      console.log(\"Bokeh: BokehJS plotting callback run at\", now());\n",
       "      run_inline_js();\n",
       "    });\n",
       "  }\n",
       "}(this));"
      ]
     },
     "metadata": {},
     "output_type": "display_data"
    }
   ],
   "source": [
    "from functools import reduce\n",
    "from glob import glob\n",
    "from pprint import pprint\n",
    "\n",
    "import bokeh.plotting as bk\n",
    "import bokeh.io\n",
    "import bokeh.palettes\n",
    "bk.output_notebook()\n",
    "\n",
    "import ipywidgets as ipw\n",
    "\n",
    "import matplotlib.style\n",
    "matplotlib.style.use('ggplot')\n",
    "import matplotlib.pyplot as mpl\n",
    "\n",
    "import numpy as np\n",
    "import pandas as pd"
   ]
  },
  {
   "cell_type": "code",
   "execution_count": 3,
   "metadata": {
    "collapsed": true,
    "extensions": {
     "jupyter_dashboards": {
      "version": 1,
      "views": {
       "grid_default": {
        "col": 8,
        "height": 12,
        "hidden": true,
        "row": 0,
        "width": 4
       },
       "report_default": {}
      }
     }
    }
   },
   "outputs": [],
   "source": [
    "DATAFILES = glob('data/quantquote_daily_sp500_83986/daily/*.csv')\n",
    "DATAFILES.sort()"
   ]
  },
  {
   "cell_type": "code",
   "execution_count": 4,
   "metadata": {
    "extensions": {
     "jupyter_dashboards": {
      "version": 1,
      "views": {
       "grid_default": {
        "col": 4,
        "height": 4,
        "hidden": true,
        "row": 4,
        "width": 4
       },
       "report_default": {}
      }
     }
    }
   },
   "outputs": [
    {
     "name": "stdout",
     "output_type": "stream",
     "text": [
      "500 stocks loaded...\n",
      "2.053158s elapsed...\n"
     ]
    }
   ],
   "source": [
    "tstart = time.clock()\n",
    "\n",
    "DATA = {}\n",
    "SYMBOLS = []\n",
    "COLUMNS = ['date', 'zero', 'open', 'high', 'low', 'close', 'volatility']\n",
    "for filepath in DATAFILES:\n",
    "    symbol = filepath.split('/')[-1].split('_')[-1][:-4]\n",
    "    df = pd.read_csv(filepath,\n",
    "                     header=None,\n",
    "                     names=COLUMNS,\n",
    "                     index_col=0,\n",
    "                     parse_dates=[0])\n",
    "    DATA[symbol] = df\n",
    "    SYMBOLS.append(symbol)\n",
    "\n",
    "print('%d stocks loaded...' % (len(DATA.keys()),))\n",
    "\n",
    "tend = time.clock()\n",
    "print('%fs elapsed...' % (tend - tstart,))"
   ]
  },
  {
   "cell_type": "code",
   "execution_count": 5,
   "metadata": {
    "collapsed": true,
    "extensions": {
     "jupyter_dashboards": {
      "version": 1,
      "views": {
       "grid_default": {
        "hidden": true
       },
       "report_default": {}
      }
     }
    }
   },
   "outputs": [],
   "source": [
    "dateranges = list(map(lambda key: [DATA[key].index[0], DATA[key].index[-1],  len(DATA[key].index)], DATA))\n",
    "MINDATE = reduce(lambda a, b: min(a, b), map(lambda r: r[0], dateranges))\n",
    "MAXDATE = reduce(lambda a, b: max(a, b), map(lambda r: r[1], dateranges))\n",
    "MAXSAMPLE = reduce(lambda a, b: max(a, b), map(lambda r: r[2], dateranges))"
   ]
  },
  {
   "cell_type": "code",
   "execution_count": 6,
   "metadata": {
    "collapsed": true,
    "extensions": {
     "jupyter_dashboards": {
      "version": 1,
      "views": {
       "grid_default": {
        "hidden": true
       },
       "report_default": {}
      }
     }
    }
   },
   "outputs": [],
   "source": [
    "def mpl_plot_serie(data, symbol, column='open', window=7, start=None, end=None, mean=True, std=False, envelope=True, center=False, figsize=(12,8)):\n",
    "\n",
    "    if not start:\n",
    "        start = data[symbol].index[0]\n",
    "\n",
    "    if not end:\n",
    "        end = data[symbol].index[-1]\n",
    "\n",
    "    column_mean = '%s_mean' % (column,)\n",
    "    column_std = '%s_std' % (column,)\n",
    "\n",
    "    df = pd.DataFrame()\n",
    "    df[column] = data[symbol][column][start:end].copy()\n",
    "    df[column_mean] = df[column].rolling(window=window, center=center).mean()\n",
    "    df[column_std] = df[column].rolling(window=window, center=center).std()\n",
    "\n",
    "    mpl.figure(figsize=figsize)\n",
    "    mpl.plot(df.index, df[column], label=symbol.upper())\n",
    "    if mean:\n",
    "        mpl.plot(df.index, df[column_mean], label='mean')\n",
    "    if std:\n",
    "        mpl.plot(df.index, df[column_std], label='std')\n",
    "    if envelope:\n",
    "        mpl.fill_between(df.index,\n",
    "                         df[column_mean] - 2 * df[column_std],\n",
    "                         df[column_mean] + 2 * df[column_std],\n",
    "                         label='mean +/- 2 * std',\n",
    "                         color='b',\n",
    "                         alpha=0.2)\n",
    "    mpl.title(symbol.upper())\n",
    "    mpl.legend(loc='best')\n",
    "    mpl.show()"
   ]
  },
  {
   "cell_type": "code",
   "execution_count": 7,
   "metadata": {
    "collapsed": true,
    "extensions": {
     "jupyter_dashboards": {
      "version": 1,
      "views": {
       "grid_default": {
        "hidden": true
       },
       "report_default": {}
      }
     }
    }
   },
   "outputs": [],
   "source": [
    "BK_HANDLE = None\n",
    "BK_FIGURES = None\n",
    "BK_FIGURE = None\n",
    "BK_AXES = None\n",
    "BK_DATA = None\n",
    "\n",
    "def bk_plot_serie(data, \n",
    "                  symbol, \n",
    "                  column='open', \n",
    "                  window=7, \n",
    "                  start=None, \n",
    "                  end=None, \n",
    "                  mean=True, \n",
    "                  std=False, \n",
    "                  envelope=True,  \n",
    "                  center=False,\n",
    "                  interactive=False,\n",
    "                  width=600,\n",
    "                  height=300):\n",
    "\n",
    "    global BK_HANDLE\n",
    "    global BK_FIGURE\n",
    "    global BK_AXES\n",
    "    global BK_DATA\n",
    "    \n",
    "    _symbol = symbol.upper()\n",
    "    \n",
    "    if not start:\n",
    "        start = data[symbol].index[0]\n",
    "\n",
    "    if not end:\n",
    "        end = data[symbol].index[-1]\n",
    "\n",
    "    column_mean = '%s_mean' % (column,)\n",
    "    column_std = '%s_std' % (column,)\n",
    "\n",
    "    df = pd.DataFrame()\n",
    "    df[column] = data[symbol][column][start:end].copy()\n",
    "    df[column_mean] = df[column].rolling(window=window, center=center).mean()\n",
    "    df[column_std] = df[column].rolling(window=window, center=center).std()\n",
    "\n",
    "    axes = []\n",
    "    legend_items = []\n",
    "    palette = bokeh.palettes.plasma(256)\n",
    "    figure = bk.figure(title=symbol.upper(), x_axis_type=\"datetime\", width=width, height=height)\n",
    "    figure.x_range.range_padding = 0\n",
    "    axes.append(figure.line(df.index, df[column], line_color=palette[128]))\n",
    "    legend_items.append((_symbol, [axes[0]]))\n",
    "    if mean:\n",
    "        axes.append(figure.line(df.index, df[column_mean], line_color=palette[0]))\n",
    "        legend_items.append(('mean', [axes[1]]))\n",
    "    else:\n",
    "        axes.append(None)\n",
    "        \n",
    "    if std:\n",
    "        axes.append(figure.line(df.index, df[column_std], line_color=palette[192]))\n",
    "        legend_items.append(('std', [axes[2]]))\n",
    "    else:\n",
    "        axes.append(None)\n",
    "\n",
    "    if envelope:\n",
    "        upperband = df[column_mean] + 2 * df[column_std]\n",
    "        lowerband = df[column_mean] - 2 * df[column_std]\n",
    "        x_data = df.index     \n",
    "        band_x = np.append(x_data, x_data[::-1])\n",
    "        band_y = np.append(lowerband, upperband[::-1])\n",
    "        axes.append(figure.patch(band_x, band_y, color=palette[32], alpha=0.2))\n",
    "        legend_items.append(('mean +/- 2 * std', [axes[3]]))\n",
    "    else:\n",
    "        axes.append(None)\n",
    "\n",
    "    legend = bokeh.models.Legend(items=legend_items, location=(30, 100))\n",
    "    figure.add_layout(legend, 'right')\n",
    "        \n",
    "    handle = bk.show(figure, notebook_handle=interactive)\n",
    "    \n",
    "    BK_HANDLE = handle\n",
    "    BK_FIGURE = figure\n",
    "    BK_AXES = axes\n",
    "    BK_DATA = data\n",
    "\n",
    "def bk_update_serie(_symbol, \n",
    "                    column='open', \n",
    "                    window=7, \n",
    "                    start=None, \n",
    "                    end=None,\n",
    "                    center=False):\n",
    "\n",
    "    global BK_HANDLE\n",
    "    global BK_FIGURE\n",
    "    global BK_AXES\n",
    "    global BK_DATA\n",
    "    \n",
    "    handle = BK_HANDLE\n",
    "    figure = BK_FIGURE\n",
    "    axes = BK_AXES\n",
    "    data = BK_DATA\n",
    "    \n",
    "    symbol = _symbol.lower()\n",
    "    \n",
    "    if not start:\n",
    "        start = data[symbol].index[0]\n",
    "\n",
    "    if not end:\n",
    "        end = data[symbol].index[-1]\n",
    "\n",
    "    column_mean = '%s_mean' % (column,)\n",
    "    column_std = '%s_std' % (column,)\n",
    "\n",
    "    df = pd.DataFrame()\n",
    "    df[column] = data[symbol][column][start:end].copy()\n",
    "    df[column_mean] = df[column].rolling(window=window, center=center).mean()\n",
    "    df[column_std] = df[column].rolling(window=window, center=center).std()\n",
    "\n",
    "    axes[0].data_source.data['x'] = df.index\n",
    "    axes[0].data_source.data['y'] = df[column]\n",
    "    \n",
    "    if axes[1]:\n",
    "        axes[1].data_source.data['x'] = df.index\n",
    "        axes[1].data_source.data['y'] = df[column_mean]\n",
    "        \n",
    "    if axes[2]:\n",
    "        axes[2].data_source.data['x'] = df.index\n",
    "        axes[2].data_source.data['y'] = df[column_std]\n",
    "        \n",
    "    if axes[3]:\n",
    "        upperband = df[column_mean] + 2 * df[column_std]\n",
    "        lowerband = df[column_mean] - 2 * df[column_std]\n",
    "        x_data = df.index\n",
    "        band_x = np.append(x_data, x_data[::-1])\n",
    "        band_y = np.append(lowerband, upperband[::-1])\n",
    "        axes[3].data_source.data['x'] = band_x\n",
    "        axes[3].data_source.data['y'] = band_y\n",
    "    \n",
    "    figure.title.text = _symbol\n",
    "    figure.legend[0].items[0].label['value'] = _symbol\n",
    "    \n",
    "    bokeh.io.push_notebook(handle=handle)\n",
    "\n",
    "def bk_plot_series(data, \n",
    "                   symbols, \n",
    "                   column='open', \n",
    "                   window=7, \n",
    "                   start=None, \n",
    "                   end=None, \n",
    "                   mean=True, \n",
    "                   std=False, \n",
    "                   envelope=True,  \n",
    "                   center=False,\n",
    "                   interactive=False,\n",
    "                   width=600,\n",
    "                   height=300):\n",
    "\n",
    "    global BK_HANDLE\n",
    "    global BK_FIGURES\n",
    "    global BK_AXES\n",
    "    global BK_DATA\n",
    "        \n",
    "    if not start:\n",
    "        for symbol in symbols:\n",
    "            start = MAXDATE\n",
    "            if data[symbol].index[0] < start:\n",
    "                start = data[symbol].index[0]\n",
    "\n",
    "    if not end:\n",
    "        for symbol in symbols:\n",
    "            end = MINDATE\n",
    "            if data[symbol].index[-1] > end:\n",
    "                end = data[symbol].index[-1]\n",
    "\n",
    "    column_mean = '%s_mean' % (column,)\n",
    "    column_std = '%s_std' % (column,)\n",
    "\n",
    "    first = None\n",
    "    figures = []\n",
    "    _axes = {}\n",
    "    for i, symbol in enumerate(symbols):\n",
    "        _symbol = symbol.upper()\n",
    "        \n",
    "        df = pd.DataFrame()\n",
    "        df[column] = data[symbol][column][start:end].copy()\n",
    "        df[column_mean] = df[column].rolling(window=window, center=center).mean()\n",
    "        df[column_std] = df[column].rolling(window=window, center=center).std()\n",
    "        \n",
    "        axes = []\n",
    "        legend_items = []\n",
    "        palette = bokeh.palettes.plasma(256)\n",
    "        if first is None:\n",
    "            figure = bk.figure(title=symbol.upper(), x_axis_type=\"datetime\", width=width, height=height)\n",
    "            first = figure\n",
    "        else:\n",
    "            figure = bk.figure(title=symbol.upper(), x_axis_type=\"datetime\", x_range=first.x_range, width=width, height=height)\n",
    "        figure.x_range.range_padding = 0 \n",
    "        axes.append(figure.line(df.index, df[column], line_color=palette[128]))\n",
    "        legend_items.append((_symbol, [axes[0]]))\n",
    "        if mean:\n",
    "            axes.append(figure.line(df.index, df[column_mean], line_color=palette[0]))\n",
    "            legend_items.append(('mean', [axes[1]]))\n",
    "        else:\n",
    "            axes.append(None)\n",
    "\n",
    "        if std:\n",
    "            axes.append(figure.line(df.index, df[column_std], line_color=palette[192]))\n",
    "            legend_items.append(('std', [axes[2]]))\n",
    "        else:\n",
    "            axes.append(None)\n",
    "\n",
    "        if envelope:\n",
    "            upperband = df[column_mean] + 2 * df[column_std]\n",
    "            lowerband = df[column_mean] - 2 * df[column_std]\n",
    "            x_data = df.index     \n",
    "            band_x = np.append(x_data, x_data[::-1])\n",
    "            band_y = np.append(lowerband, upperband[::-1])\n",
    "            axes.append(figure.patch(band_x, band_y, color=palette[32], alpha=0.2))\n",
    "            legend_items.append(('mean +/- 2 * std', [axes[3]]))\n",
    "        else:\n",
    "            axes.append(None)\n",
    "\n",
    "        legend = bokeh.models.Legend(items=legend_items, location=(30, 100))\n",
    "        figure.add_layout(legend, 'right')\n",
    "\n",
    "        _axes[i] = axes\n",
    "        figures.append(figure)\n",
    "        \n",
    "    handle = bk.show(bokeh.layouts.column(figures), notebook_handle=interactive)\n",
    "    \n",
    "    BK_HANDLE = handle\n",
    "    BK_FIGURES = figures\n",
    "    BK_AXES = _axes\n",
    "    BK_DATA = data\n",
    "\n",
    "def bk_update_series(symbols=[], \n",
    "                     column='open', \n",
    "                     window=7, \n",
    "                     start=None, \n",
    "                     end=None,\n",
    "                     center=False,\n",
    "                     symbol1=[],\n",
    "                     symbol2=[],\n",
    "                     symbol3=[],\n",
    "                     symbol4=[],\n",
    "                     symbol5=[]):\n",
    "\n",
    "    global BK_HANDLE\n",
    "    global BK_FIGURES\n",
    "    global BK_AXES\n",
    "    global BK_DATA\n",
    "    \n",
    "    handle = BK_HANDLE\n",
    "    figures = BK_FIGURES\n",
    "    _axes = BK_AXES\n",
    "    data = BK_DATA\n",
    "    \n",
    "    if symbols is None:\n",
    "        symbols = filter(lambda s: s is not None, [symbol1, symbol2, symbol3, symbol4, symbol5])\n",
    "        \n",
    "    if not start:\n",
    "        for symbol in symbols:\n",
    "            start = MAXDATE\n",
    "            if data[symbol].index[0] < start:\n",
    "                start = data[symbol].index[0]\n",
    "\n",
    "    if not end:\n",
    "        for symbol in symbols:\n",
    "            end = MINDATE\n",
    "            if data[symbol].index[-1] > end:\n",
    "                end = data[symbol].index[-1]\n",
    "\n",
    "    column_mean = '%s_mean' % (column,)\n",
    "    column_std = '%s_std' % (column,)\n",
    "\n",
    "    for i, _symbol in enumerate(symbols):\n",
    "        symbol = _symbol.lower()\n",
    "        figure = figures[i]\n",
    "        axes = _axes[i]\n",
    "        \n",
    "        df = pd.DataFrame()\n",
    "        df[column] = data[symbol][column][start:end].copy()\n",
    "        df[column_mean] = df[column].rolling(window=window, center=center).mean()\n",
    "        df[column_std] = df[column].rolling(window=window, center=center).std()\n",
    "\n",
    "        axes[0].data_source.data['x'] = df.index\n",
    "        axes[0].data_source.data['y'] = df[column]\n",
    "\n",
    "        if axes[1]:\n",
    "            axes[1].data_source.data['x'] = df.index\n",
    "            axes[1].data_source.data['y'] = df[column_mean]\n",
    "\n",
    "        if axes[2]:\n",
    "            axes[2].data_source.data['x'] = df.index\n",
    "            axes[2].data_source.data['y'] = df[column_std]\n",
    "\n",
    "        if axes[3]:\n",
    "            upperband = df[column_mean] + 2 * df[column_std]\n",
    "            lowerband = df[column_mean] - 2 * df[column_std]\n",
    "            x_data = df.index\n",
    "            band_x = np.append(x_data, x_data[::-1])\n",
    "            band_y = np.append(lowerband, upperband[::-1])\n",
    "            axes[3].data_source.data['x'] = band_x\n",
    "            axes[3].data_source.data['y'] = band_y\n",
    "\n",
    "        figure.title.text = _symbol\n",
    "        figure.legend[0].items[0].label['value'] = _symbol\n",
    "    \n",
    "    bokeh.io.push_notebook(handle=handle)"
   ]
  },
  {
   "cell_type": "code",
   "execution_count": 8,
   "metadata": {
    "extensions": {
     "jupyter_dashboards": {
      "version": 1,
      "views": {
       "grid_default": {
        "col": 4,
        "height": 5,
        "hidden": true,
        "row": 11,
        "width": 4
       },
       "report_default": {}
      }
     }
    }
   },
   "outputs": [
    {
     "data": {
      "image/png": "[encoded data removed]",
      "text/plain": [
       "<matplotlib.figure.Figure at 0x7f17864c8278>"
      ]
     },
     "metadata": {},
     "output_type": "display_data"
    }
   ],
   "source": [
    "SYMBOL = SYMBOLS[np.random.randint(len(SYMBOLS))]\n",
    "\n",
    "WINDOW = 365\n",
    "\n",
    "START   = MINDATE\n",
    "END     = MAXDATE\n",
    "\n",
    "COLUMN = 'open'\n",
    "\n",
    "mpl_plot_serie(DATA, SYMBOL, window=WINDOW, start=START, end=END, figsize=(20,6))"
   ]
  },
  {
   "cell_type": "code",
   "execution_count": 9,
   "metadata": {
    "extensions": {
     "jupyter_dashboards": {
      "version": 1,
      "views": {
       "grid_default": {
        "col": 0,
        "height": 11,
        "hidden": true,
        "row": 0,
        "width": 12
       },
       "report_default": {}
      }
     }
    },
    "scrolled": true
   },
   "outputs": [],
   "source": [
    "# WINDOW = 365\n",
    "\n",
    "# START   = MINDATE\n",
    "# END     = MAXDATE\n",
    "\n",
    "# COLUMN = 'open'\n",
    "\n",
    "# bk_plot_serie(DATA, SYMBOL, window=WINDOW, start=START, end=END, interactive=True, width=1100, height=200)"
   ]
  },
  {
   "cell_type": "code",
   "execution_count": 10,
   "metadata": {
    "extensions": {
     "jupyter_dashboards": {
      "version": 1,
      "views": {
       "grid_default": {
        "col": 0,
        "height": 7,
        "hidden": true,
        "row": 0,
        "width": 4
       },
       "report_default": {}
      }
     }
    },
    "scrolled": true
   },
   "outputs": [],
   "source": [
    "# ipw.interact(bk_update_serie,\n",
    "#              _symbol=ipw.Select(options=list(map(lambda s: s.upper(), SYMBOLS)), value=SYMBOL.upper()),\n",
    "#              column=ipw.Select(options=COLUMNS, value='open'),\n",
    "#              window=ipw.SelectionSlider(options=(7, 15, 30, 60, 90, 180, 365), value=WINDOW),\n",
    "#              start=ipw.DatePicker(value=START),\n",
    "#              end=ipw.DatePicker(value=END))"
   ]
  },
  {
   "cell_type": "code",
   "execution_count": 11,
   "metadata": {
    "extensions": {
     "jupyter_dashboards": {
      "version": 1,
      "views": {
       "grid_default": {
        "col": 0,
        "height": 35,
        "hidden": false,
        "row": 0,
        "width": 8
       },
       "report_default": {}
      }
     }
    }
   },
   "outputs": [],
   "source": [
    "# SYMBOL1 = 'aapl'\n",
    "# SYMBOL2 = 'goog'\n",
    "# SYMBOL3 = 'nflx'\n",
    "# SYMBOL4 = 'amzn'\n",
    "# SYMBOL5 = 'ibm'\n",
    "\n",
    "# WINDOW = 365\n",
    "\n",
    "# START   = MINDATE\n",
    "# END     = MAXDATE\n",
    "\n",
    "# COLUMN = 'open'\n",
    "\n",
    "# bk_plot_series(DATA, (SYMBOL1, SYMBOL2, SYMBOL3, SYMBOL4, SYMBOL5), window=WINDOW, interactive=True, width=700, height=200)"
   ]
  },
  {
   "cell_type": "code",
   "execution_count": 12,
   "metadata": {
    "extensions": {
     "jupyter_dashboards": {
      "version": 1,
      "views": {
       "grid_default": {
        "col": 8,
        "height": 11,
        "hidden": false,
        "row": 0,
        "width": 4
       },
       "report_default": {}
      }
     }
    }
   },
   "outputs": [],
   "source": [
    "# ipw.interact(bk_update_series,\n",
    "#              symbol1=ipw.Select(options=list(map(lambda s: s.upper(), SYMBOLS)), value=SYMBOL1.upper()),\n",
    "#              symbol2=ipw.Select(options=list(map(lambda s: s.upper(), SYMBOLS)), value=SYMBOL2.upper()),\n",
    "#              symbol3=ipw.Select(options=list(map(lambda s: s.upper(), SYMBOLS)), value=SYMBOL3.upper()),\n",
    "#              symbol4=ipw.Select(options=list(map(lambda s: s.upper(), SYMBOLS)), value=SYMBOL4.upper()),\n",
    "#              symbol5=ipw.Select(options=list(map(lambda s: s.upper(), SYMBOLS)), value=SYMBOL5.upper()),\n",
    "#              column=ipw.Select(options=COLUMNS, value='open'),\n",
    "#              window=ipw.SelectionSlider(options=(7, 15, 30, 60, 90, 180, 365), value=WINDOW),\n",
    "#              start=ipw.DatePicker(value=START),\n",
    "#              end=ipw.DatePicker(value=END))\n",
    "# None"
   ]
  },
  {
   "cell_type": "code",
   "execution_count": null,
   "metadata": {
    "collapsed": true,
    "extensions": {
     "jupyter_dashboards": {
      "version": 1,
      "views": {
       "grid_default": {
        "hidden": true
       },
       "report_default": {}
      }
     }
    }
   },
   "outputs": [],
   "source": []
  }
 ],
 "metadata": {
  "extensions": {
   "jupyter_dashboards": {
    "activeView": "grid_default",
    "version": 1,
    "views": {
     "grid_default": {
      "cellMargin": 10,
      "defaultCellHeight": 20,
      "maxColumns": 12,
      "name": "grid",
      "type": "grid"
     },
     "report_default": {
      "name": "report",
      "type": "report"
     }
    }
   }
  },
  "kernelspec": {
   "display_name": "Python 3",
   "language": "python",
   "name": "python3"
  },
  "language_info": {
   "codemirror_mode": {
    "name": "ipython",
    "version": 3
   },
   "file_extension": ".py",
   "mimetype": "text/x-python",
   "name": "python",
   "nbconvert_exporter": "python",
   "pygments_lexer": "ipython3",
   "version": "3.5.2"
  }
 },
 "nbformat": 4,
 "nbformat_minor": 2
}
